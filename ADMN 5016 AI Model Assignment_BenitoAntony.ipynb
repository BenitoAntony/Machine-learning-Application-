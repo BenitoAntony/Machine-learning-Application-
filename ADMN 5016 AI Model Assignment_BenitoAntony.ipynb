{
 "cells": [
  {
   "cell_type": "code",
   "execution_count": 82,
   "id": "b61fcdcc",
   "metadata": {},
   "outputs": [],
   "source": [
    "# Importing required libraries\n",
    "import pandas as pd\n",
    "import numpy as np\n",
    "import matplotlib.pyplot as plt\n",
    "from sklearn.model_selection import train_test_split\n",
    "from sklearn.preprocessing import StandardScaler\n",
    "from sklearn.linear_model import LogisticRegression\n",
    "from sklearn.tree import DecisionTreeClassifier\n",
    "from sklearn.ensemble import RandomForestClassifier\n",
    "from sklearn.metrics import classification_report, roc_auc_score\n",
    "from imblearn.over_sampling import SMOTE\n",
    "from sklearn.preprocessing import OneHotEncoder, LabelEncoder\n",
    "from sklearn.model_selection import GridSearchCV\n"
   ]
  },
  {
   "cell_type": "code",
   "execution_count": 83,
   "id": "4dea2c8d",
   "metadata": {},
   "outputs": [],
   "source": [
    "# Importing the CSV file\n",
    "Df = pd.read_csv(r\"D:\\SLC BUSINESS ANALYTICS 3RD Smester\\ADMN 5016 Applied Artificial Inteligence and Machine Learning\\BankChurners.csv\")"
   ]
  },
  {
   "cell_type": "code",
   "execution_count": 84,
   "id": "db7cf4f7",
   "metadata": {},
   "outputs": [
    {
     "data": {
      "text/html": [
       "<div>\n",
       "<style scoped>\n",
       "    .dataframe tbody tr th:only-of-type {\n",
       "        vertical-align: middle;\n",
       "    }\n",
       "\n",
       "    .dataframe tbody tr th {\n",
       "        vertical-align: top;\n",
       "    }\n",
       "\n",
       "    .dataframe thead th {\n",
       "        text-align: right;\n",
       "    }\n",
       "</style>\n",
       "<table border=\"1\" class=\"dataframe\">\n",
       "  <thead>\n",
       "    <tr style=\"text-align: right;\">\n",
       "      <th></th>\n",
       "      <th>CLIENTNUM</th>\n",
       "      <th>Attrition_Flag</th>\n",
       "      <th>Customer_Age</th>\n",
       "      <th>Gender</th>\n",
       "      <th>Dependent_count</th>\n",
       "      <th>Education_Level</th>\n",
       "      <th>Marital_Status</th>\n",
       "      <th>Income_Category</th>\n",
       "      <th>Card_Category</th>\n",
       "      <th>Months_on_book</th>\n",
       "      <th>...</th>\n",
       "      <th>Credit_Limit</th>\n",
       "      <th>Total_Revolving_Bal</th>\n",
       "      <th>Avg_Open_To_Buy</th>\n",
       "      <th>Total_Amt_Chng_Q4_Q1</th>\n",
       "      <th>Total_Trans_Amt</th>\n",
       "      <th>Total_Trans_Ct</th>\n",
       "      <th>Total_Ct_Chng_Q4_Q1</th>\n",
       "      <th>Avg_Utilization_Ratio</th>\n",
       "      <th>Naive_Bayes_Classifier_Attrition_Flag_Card_Category_Contacts_Count_12_mon_Dependent_count_Education_Level_Months_Inactive_12_mon_1</th>\n",
       "      <th>Naive_Bayes_Classifier_Attrition_Flag_Card_Category_Contacts_Count_12_mon_Dependent_count_Education_Level_Months_Inactive_12_mon_2</th>\n",
       "    </tr>\n",
       "  </thead>\n",
       "  <tbody>\n",
       "    <tr>\n",
       "      <th>0</th>\n",
       "      <td>768805383</td>\n",
       "      <td>Existing Customer</td>\n",
       "      <td>45</td>\n",
       "      <td>M</td>\n",
       "      <td>3</td>\n",
       "      <td>High School</td>\n",
       "      <td>Married</td>\n",
       "      <td>$60K - $80K</td>\n",
       "      <td>Blue</td>\n",
       "      <td>39</td>\n",
       "      <td>...</td>\n",
       "      <td>12691.0</td>\n",
       "      <td>777</td>\n",
       "      <td>11914.0</td>\n",
       "      <td>1.335</td>\n",
       "      <td>1144</td>\n",
       "      <td>42</td>\n",
       "      <td>1.625</td>\n",
       "      <td>0.061</td>\n",
       "      <td>0.000093</td>\n",
       "      <td>0.99991</td>\n",
       "    </tr>\n",
       "    <tr>\n",
       "      <th>1</th>\n",
       "      <td>818770008</td>\n",
       "      <td>Existing Customer</td>\n",
       "      <td>49</td>\n",
       "      <td>F</td>\n",
       "      <td>5</td>\n",
       "      <td>Graduate</td>\n",
       "      <td>Single</td>\n",
       "      <td>Less than $40K</td>\n",
       "      <td>Blue</td>\n",
       "      <td>44</td>\n",
       "      <td>...</td>\n",
       "      <td>8256.0</td>\n",
       "      <td>864</td>\n",
       "      <td>7392.0</td>\n",
       "      <td>1.541</td>\n",
       "      <td>1291</td>\n",
       "      <td>33</td>\n",
       "      <td>3.714</td>\n",
       "      <td>0.105</td>\n",
       "      <td>0.000057</td>\n",
       "      <td>0.99994</td>\n",
       "    </tr>\n",
       "    <tr>\n",
       "      <th>2</th>\n",
       "      <td>713982108</td>\n",
       "      <td>Existing Customer</td>\n",
       "      <td>51</td>\n",
       "      <td>M</td>\n",
       "      <td>3</td>\n",
       "      <td>Graduate</td>\n",
       "      <td>Married</td>\n",
       "      <td>$80K - $120K</td>\n",
       "      <td>Blue</td>\n",
       "      <td>36</td>\n",
       "      <td>...</td>\n",
       "      <td>3418.0</td>\n",
       "      <td>0</td>\n",
       "      <td>3418.0</td>\n",
       "      <td>2.594</td>\n",
       "      <td>1887</td>\n",
       "      <td>20</td>\n",
       "      <td>2.333</td>\n",
       "      <td>0.000</td>\n",
       "      <td>0.000021</td>\n",
       "      <td>0.99998</td>\n",
       "    </tr>\n",
       "    <tr>\n",
       "      <th>3</th>\n",
       "      <td>769911858</td>\n",
       "      <td>Existing Customer</td>\n",
       "      <td>40</td>\n",
       "      <td>F</td>\n",
       "      <td>4</td>\n",
       "      <td>High School</td>\n",
       "      <td>Unknown</td>\n",
       "      <td>Less than $40K</td>\n",
       "      <td>Blue</td>\n",
       "      <td>34</td>\n",
       "      <td>...</td>\n",
       "      <td>3313.0</td>\n",
       "      <td>2517</td>\n",
       "      <td>796.0</td>\n",
       "      <td>1.405</td>\n",
       "      <td>1171</td>\n",
       "      <td>20</td>\n",
       "      <td>2.333</td>\n",
       "      <td>0.760</td>\n",
       "      <td>0.000134</td>\n",
       "      <td>0.99987</td>\n",
       "    </tr>\n",
       "    <tr>\n",
       "      <th>4</th>\n",
       "      <td>709106358</td>\n",
       "      <td>Existing Customer</td>\n",
       "      <td>40</td>\n",
       "      <td>M</td>\n",
       "      <td>3</td>\n",
       "      <td>Uneducated</td>\n",
       "      <td>Married</td>\n",
       "      <td>$60K - $80K</td>\n",
       "      <td>Blue</td>\n",
       "      <td>21</td>\n",
       "      <td>...</td>\n",
       "      <td>4716.0</td>\n",
       "      <td>0</td>\n",
       "      <td>4716.0</td>\n",
       "      <td>2.175</td>\n",
       "      <td>816</td>\n",
       "      <td>28</td>\n",
       "      <td>2.500</td>\n",
       "      <td>0.000</td>\n",
       "      <td>0.000022</td>\n",
       "      <td>0.99998</td>\n",
       "    </tr>\n",
       "  </tbody>\n",
       "</table>\n",
       "<p>5 rows × 23 columns</p>\n",
       "</div>"
      ],
      "text/plain": [
       "   CLIENTNUM     Attrition_Flag  Customer_Age Gender  Dependent_count  \\\n",
       "0  768805383  Existing Customer            45      M                3   \n",
       "1  818770008  Existing Customer            49      F                5   \n",
       "2  713982108  Existing Customer            51      M                3   \n",
       "3  769911858  Existing Customer            40      F                4   \n",
       "4  709106358  Existing Customer            40      M                3   \n",
       "\n",
       "  Education_Level Marital_Status Income_Category Card_Category  \\\n",
       "0     High School        Married     $60K - $80K          Blue   \n",
       "1        Graduate         Single  Less than $40K          Blue   \n",
       "2        Graduate        Married    $80K - $120K          Blue   \n",
       "3     High School        Unknown  Less than $40K          Blue   \n",
       "4      Uneducated        Married     $60K - $80K          Blue   \n",
       "\n",
       "   Months_on_book  ...  Credit_Limit  Total_Revolving_Bal  Avg_Open_To_Buy  \\\n",
       "0              39  ...       12691.0                  777          11914.0   \n",
       "1              44  ...        8256.0                  864           7392.0   \n",
       "2              36  ...        3418.0                    0           3418.0   \n",
       "3              34  ...        3313.0                 2517            796.0   \n",
       "4              21  ...        4716.0                    0           4716.0   \n",
       "\n",
       "   Total_Amt_Chng_Q4_Q1  Total_Trans_Amt  Total_Trans_Ct  Total_Ct_Chng_Q4_Q1  \\\n",
       "0                 1.335             1144              42                1.625   \n",
       "1                 1.541             1291              33                3.714   \n",
       "2                 2.594             1887              20                2.333   \n",
       "3                 1.405             1171              20                2.333   \n",
       "4                 2.175              816              28                2.500   \n",
       "\n",
       "   Avg_Utilization_Ratio  \\\n",
       "0                  0.061   \n",
       "1                  0.105   \n",
       "2                  0.000   \n",
       "3                  0.760   \n",
       "4                  0.000   \n",
       "\n",
       "   Naive_Bayes_Classifier_Attrition_Flag_Card_Category_Contacts_Count_12_mon_Dependent_count_Education_Level_Months_Inactive_12_mon_1  \\\n",
       "0                                           0.000093                                                                                    \n",
       "1                                           0.000057                                                                                    \n",
       "2                                           0.000021                                                                                    \n",
       "3                                           0.000134                                                                                    \n",
       "4                                           0.000022                                                                                    \n",
       "\n",
       "   Naive_Bayes_Classifier_Attrition_Flag_Card_Category_Contacts_Count_12_mon_Dependent_count_Education_Level_Months_Inactive_12_mon_2  \n",
       "0                                            0.99991                                                                                   \n",
       "1                                            0.99994                                                                                   \n",
       "2                                            0.99998                                                                                   \n",
       "3                                            0.99987                                                                                   \n",
       "4                                            0.99998                                                                                   \n",
       "\n",
       "[5 rows x 23 columns]"
      ]
     },
     "execution_count": 84,
     "metadata": {},
     "output_type": "execute_result"
    }
   ],
   "source": [
    "#Performing EDA\n",
    "Df.head()"
   ]
  },
  {
   "cell_type": "code",
   "execution_count": 85,
   "id": "6082b4ea",
   "metadata": {},
   "outputs": [
    {
     "data": {
      "text/html": [
       "<div>\n",
       "<style scoped>\n",
       "    .dataframe tbody tr th:only-of-type {\n",
       "        vertical-align: middle;\n",
       "    }\n",
       "\n",
       "    .dataframe tbody tr th {\n",
       "        vertical-align: top;\n",
       "    }\n",
       "\n",
       "    .dataframe thead th {\n",
       "        text-align: right;\n",
       "    }\n",
       "</style>\n",
       "<table border=\"1\" class=\"dataframe\">\n",
       "  <thead>\n",
       "    <tr style=\"text-align: right;\">\n",
       "      <th></th>\n",
       "      <th>CLIENTNUM</th>\n",
       "      <th>Customer_Age</th>\n",
       "      <th>Dependent_count</th>\n",
       "      <th>Months_on_book</th>\n",
       "      <th>Total_Relationship_Count</th>\n",
       "      <th>Months_Inactive_12_mon</th>\n",
       "      <th>Contacts_Count_12_mon</th>\n",
       "      <th>Credit_Limit</th>\n",
       "      <th>Total_Revolving_Bal</th>\n",
       "      <th>Avg_Open_To_Buy</th>\n",
       "      <th>Total_Amt_Chng_Q4_Q1</th>\n",
       "      <th>Total_Trans_Amt</th>\n",
       "      <th>Total_Trans_Ct</th>\n",
       "      <th>Total_Ct_Chng_Q4_Q1</th>\n",
       "      <th>Avg_Utilization_Ratio</th>\n",
       "      <th>Naive_Bayes_Classifier_Attrition_Flag_Card_Category_Contacts_Count_12_mon_Dependent_count_Education_Level_Months_Inactive_12_mon_1</th>\n",
       "      <th>Naive_Bayes_Classifier_Attrition_Flag_Card_Category_Contacts_Count_12_mon_Dependent_count_Education_Level_Months_Inactive_12_mon_2</th>\n",
       "    </tr>\n",
       "  </thead>\n",
       "  <tbody>\n",
       "    <tr>\n",
       "      <th>count</th>\n",
       "      <td>1.012700e+04</td>\n",
       "      <td>10127.000000</td>\n",
       "      <td>10127.000000</td>\n",
       "      <td>10127.000000</td>\n",
       "      <td>10127.000000</td>\n",
       "      <td>10127.000000</td>\n",
       "      <td>10127.000000</td>\n",
       "      <td>10127.000000</td>\n",
       "      <td>10127.000000</td>\n",
       "      <td>10127.000000</td>\n",
       "      <td>10127.000000</td>\n",
       "      <td>10127.000000</td>\n",
       "      <td>10127.000000</td>\n",
       "      <td>10127.000000</td>\n",
       "      <td>10127.000000</td>\n",
       "      <td>10127.000000</td>\n",
       "      <td>10127.000000</td>\n",
       "    </tr>\n",
       "    <tr>\n",
       "      <th>mean</th>\n",
       "      <td>7.391776e+08</td>\n",
       "      <td>46.325960</td>\n",
       "      <td>2.346203</td>\n",
       "      <td>35.928409</td>\n",
       "      <td>3.812580</td>\n",
       "      <td>2.341167</td>\n",
       "      <td>2.455317</td>\n",
       "      <td>8631.953698</td>\n",
       "      <td>1162.814061</td>\n",
       "      <td>7469.139637</td>\n",
       "      <td>0.759941</td>\n",
       "      <td>4404.086304</td>\n",
       "      <td>64.858695</td>\n",
       "      <td>0.712222</td>\n",
       "      <td>0.274894</td>\n",
       "      <td>0.159997</td>\n",
       "      <td>0.840003</td>\n",
       "    </tr>\n",
       "    <tr>\n",
       "      <th>std</th>\n",
       "      <td>3.690378e+07</td>\n",
       "      <td>8.016814</td>\n",
       "      <td>1.298908</td>\n",
       "      <td>7.986416</td>\n",
       "      <td>1.554408</td>\n",
       "      <td>1.010622</td>\n",
       "      <td>1.106225</td>\n",
       "      <td>9088.776650</td>\n",
       "      <td>814.987335</td>\n",
       "      <td>9090.685324</td>\n",
       "      <td>0.219207</td>\n",
       "      <td>3397.129254</td>\n",
       "      <td>23.472570</td>\n",
       "      <td>0.238086</td>\n",
       "      <td>0.275691</td>\n",
       "      <td>0.365301</td>\n",
       "      <td>0.365301</td>\n",
       "    </tr>\n",
       "    <tr>\n",
       "      <th>min</th>\n",
       "      <td>7.080821e+08</td>\n",
       "      <td>26.000000</td>\n",
       "      <td>0.000000</td>\n",
       "      <td>13.000000</td>\n",
       "      <td>1.000000</td>\n",
       "      <td>0.000000</td>\n",
       "      <td>0.000000</td>\n",
       "      <td>1438.300000</td>\n",
       "      <td>0.000000</td>\n",
       "      <td>3.000000</td>\n",
       "      <td>0.000000</td>\n",
       "      <td>510.000000</td>\n",
       "      <td>10.000000</td>\n",
       "      <td>0.000000</td>\n",
       "      <td>0.000000</td>\n",
       "      <td>0.000008</td>\n",
       "      <td>0.000420</td>\n",
       "    </tr>\n",
       "    <tr>\n",
       "      <th>25%</th>\n",
       "      <td>7.130368e+08</td>\n",
       "      <td>41.000000</td>\n",
       "      <td>1.000000</td>\n",
       "      <td>31.000000</td>\n",
       "      <td>3.000000</td>\n",
       "      <td>2.000000</td>\n",
       "      <td>2.000000</td>\n",
       "      <td>2555.000000</td>\n",
       "      <td>359.000000</td>\n",
       "      <td>1324.500000</td>\n",
       "      <td>0.631000</td>\n",
       "      <td>2155.500000</td>\n",
       "      <td>45.000000</td>\n",
       "      <td>0.582000</td>\n",
       "      <td>0.023000</td>\n",
       "      <td>0.000099</td>\n",
       "      <td>0.999660</td>\n",
       "    </tr>\n",
       "    <tr>\n",
       "      <th>50%</th>\n",
       "      <td>7.179264e+08</td>\n",
       "      <td>46.000000</td>\n",
       "      <td>2.000000</td>\n",
       "      <td>36.000000</td>\n",
       "      <td>4.000000</td>\n",
       "      <td>2.000000</td>\n",
       "      <td>2.000000</td>\n",
       "      <td>4549.000000</td>\n",
       "      <td>1276.000000</td>\n",
       "      <td>3474.000000</td>\n",
       "      <td>0.736000</td>\n",
       "      <td>3899.000000</td>\n",
       "      <td>67.000000</td>\n",
       "      <td>0.702000</td>\n",
       "      <td>0.176000</td>\n",
       "      <td>0.000181</td>\n",
       "      <td>0.999820</td>\n",
       "    </tr>\n",
       "    <tr>\n",
       "      <th>75%</th>\n",
       "      <td>7.731435e+08</td>\n",
       "      <td>52.000000</td>\n",
       "      <td>3.000000</td>\n",
       "      <td>40.000000</td>\n",
       "      <td>5.000000</td>\n",
       "      <td>3.000000</td>\n",
       "      <td>3.000000</td>\n",
       "      <td>11067.500000</td>\n",
       "      <td>1784.000000</td>\n",
       "      <td>9859.000000</td>\n",
       "      <td>0.859000</td>\n",
       "      <td>4741.000000</td>\n",
       "      <td>81.000000</td>\n",
       "      <td>0.818000</td>\n",
       "      <td>0.503000</td>\n",
       "      <td>0.000337</td>\n",
       "      <td>0.999900</td>\n",
       "    </tr>\n",
       "    <tr>\n",
       "      <th>max</th>\n",
       "      <td>8.283431e+08</td>\n",
       "      <td>73.000000</td>\n",
       "      <td>5.000000</td>\n",
       "      <td>56.000000</td>\n",
       "      <td>6.000000</td>\n",
       "      <td>6.000000</td>\n",
       "      <td>6.000000</td>\n",
       "      <td>34516.000000</td>\n",
       "      <td>2517.000000</td>\n",
       "      <td>34516.000000</td>\n",
       "      <td>3.397000</td>\n",
       "      <td>18484.000000</td>\n",
       "      <td>139.000000</td>\n",
       "      <td>3.714000</td>\n",
       "      <td>0.999000</td>\n",
       "      <td>0.999580</td>\n",
       "      <td>0.999990</td>\n",
       "    </tr>\n",
       "  </tbody>\n",
       "</table>\n",
       "</div>"
      ],
      "text/plain": [
       "          CLIENTNUM  Customer_Age  Dependent_count  Months_on_book  \\\n",
       "count  1.012700e+04  10127.000000     10127.000000    10127.000000   \n",
       "mean   7.391776e+08     46.325960         2.346203       35.928409   \n",
       "std    3.690378e+07      8.016814         1.298908        7.986416   \n",
       "min    7.080821e+08     26.000000         0.000000       13.000000   \n",
       "25%    7.130368e+08     41.000000         1.000000       31.000000   \n",
       "50%    7.179264e+08     46.000000         2.000000       36.000000   \n",
       "75%    7.731435e+08     52.000000         3.000000       40.000000   \n",
       "max    8.283431e+08     73.000000         5.000000       56.000000   \n",
       "\n",
       "       Total_Relationship_Count  Months_Inactive_12_mon  \\\n",
       "count              10127.000000            10127.000000   \n",
       "mean                   3.812580                2.341167   \n",
       "std                    1.554408                1.010622   \n",
       "min                    1.000000                0.000000   \n",
       "25%                    3.000000                2.000000   \n",
       "50%                    4.000000                2.000000   \n",
       "75%                    5.000000                3.000000   \n",
       "max                    6.000000                6.000000   \n",
       "\n",
       "       Contacts_Count_12_mon  Credit_Limit  Total_Revolving_Bal  \\\n",
       "count           10127.000000  10127.000000         10127.000000   \n",
       "mean                2.455317   8631.953698          1162.814061   \n",
       "std                 1.106225   9088.776650           814.987335   \n",
       "min                 0.000000   1438.300000             0.000000   \n",
       "25%                 2.000000   2555.000000           359.000000   \n",
       "50%                 2.000000   4549.000000          1276.000000   \n",
       "75%                 3.000000  11067.500000          1784.000000   \n",
       "max                 6.000000  34516.000000          2517.000000   \n",
       "\n",
       "       Avg_Open_To_Buy  Total_Amt_Chng_Q4_Q1  Total_Trans_Amt  Total_Trans_Ct  \\\n",
       "count     10127.000000          10127.000000     10127.000000    10127.000000   \n",
       "mean       7469.139637              0.759941      4404.086304       64.858695   \n",
       "std        9090.685324              0.219207      3397.129254       23.472570   \n",
       "min           3.000000              0.000000       510.000000       10.000000   \n",
       "25%        1324.500000              0.631000      2155.500000       45.000000   \n",
       "50%        3474.000000              0.736000      3899.000000       67.000000   \n",
       "75%        9859.000000              0.859000      4741.000000       81.000000   \n",
       "max       34516.000000              3.397000     18484.000000      139.000000   \n",
       "\n",
       "       Total_Ct_Chng_Q4_Q1  Avg_Utilization_Ratio  \\\n",
       "count         10127.000000           10127.000000   \n",
       "mean              0.712222               0.274894   \n",
       "std               0.238086               0.275691   \n",
       "min               0.000000               0.000000   \n",
       "25%               0.582000               0.023000   \n",
       "50%               0.702000               0.176000   \n",
       "75%               0.818000               0.503000   \n",
       "max               3.714000               0.999000   \n",
       "\n",
       "       Naive_Bayes_Classifier_Attrition_Flag_Card_Category_Contacts_Count_12_mon_Dependent_count_Education_Level_Months_Inactive_12_mon_1  \\\n",
       "count                                       10127.000000                                                                                    \n",
       "mean                                            0.159997                                                                                    \n",
       "std                                             0.365301                                                                                    \n",
       "min                                             0.000008                                                                                    \n",
       "25%                                             0.000099                                                                                    \n",
       "50%                                             0.000181                                                                                    \n",
       "75%                                             0.000337                                                                                    \n",
       "max                                             0.999580                                                                                    \n",
       "\n",
       "       Naive_Bayes_Classifier_Attrition_Flag_Card_Category_Contacts_Count_12_mon_Dependent_count_Education_Level_Months_Inactive_12_mon_2  \n",
       "count                                       10127.000000                                                                                   \n",
       "mean                                            0.840003                                                                                   \n",
       "std                                             0.365301                                                                                   \n",
       "min                                             0.000420                                                                                   \n",
       "25%                                             0.999660                                                                                   \n",
       "50%                                             0.999820                                                                                   \n",
       "75%                                             0.999900                                                                                   \n",
       "max                                             0.999990                                                                                   "
      ]
     },
     "execution_count": 85,
     "metadata": {},
     "output_type": "execute_result"
    }
   ],
   "source": [
    "Df.describe()"
   ]
  },
  {
   "cell_type": "code",
   "execution_count": 86,
   "id": "d3390c08",
   "metadata": {},
   "outputs": [
    {
     "data": {
      "text/plain": [
       "Index(['CLIENTNUM', 'Attrition_Flag', 'Customer_Age', 'Gender',\n",
       "       'Dependent_count', 'Education_Level', 'Marital_Status',\n",
       "       'Income_Category', 'Card_Category', 'Months_on_book',\n",
       "       'Total_Relationship_Count', 'Months_Inactive_12_mon',\n",
       "       'Contacts_Count_12_mon', 'Credit_Limit', 'Total_Revolving_Bal',\n",
       "       'Avg_Open_To_Buy', 'Total_Amt_Chng_Q4_Q1', 'Total_Trans_Amt',\n",
       "       'Total_Trans_Ct', 'Total_Ct_Chng_Q4_Q1', 'Avg_Utilization_Ratio',\n",
       "       'Naive_Bayes_Classifier_Attrition_Flag_Card_Category_Contacts_Count_12_mon_Dependent_count_Education_Level_Months_Inactive_12_mon_1',\n",
       "       'Naive_Bayes_Classifier_Attrition_Flag_Card_Category_Contacts_Count_12_mon_Dependent_count_Education_Level_Months_Inactive_12_mon_2'],\n",
       "      dtype='object')"
      ]
     },
     "execution_count": 86,
     "metadata": {},
     "output_type": "execute_result"
    }
   ],
   "source": [
    "Df.columns"
   ]
  },
  {
   "cell_type": "code",
   "execution_count": 87,
   "id": "5069432f",
   "metadata": {},
   "outputs": [
    {
     "data": {
      "text/plain": [
       "CLIENTNUM                                                                                                                               int64\n",
       "Attrition_Flag                                                                                                                         object\n",
       "Customer_Age                                                                                                                            int64\n",
       "Gender                                                                                                                                 object\n",
       "Dependent_count                                                                                                                         int64\n",
       "Education_Level                                                                                                                        object\n",
       "Marital_Status                                                                                                                         object\n",
       "Income_Category                                                                                                                        object\n",
       "Card_Category                                                                                                                          object\n",
       "Months_on_book                                                                                                                          int64\n",
       "Total_Relationship_Count                                                                                                                int64\n",
       "Months_Inactive_12_mon                                                                                                                  int64\n",
       "Contacts_Count_12_mon                                                                                                                   int64\n",
       "Credit_Limit                                                                                                                          float64\n",
       "Total_Revolving_Bal                                                                                                                     int64\n",
       "Avg_Open_To_Buy                                                                                                                       float64\n",
       "Total_Amt_Chng_Q4_Q1                                                                                                                  float64\n",
       "Total_Trans_Amt                                                                                                                         int64\n",
       "Total_Trans_Ct                                                                                                                          int64\n",
       "Total_Ct_Chng_Q4_Q1                                                                                                                   float64\n",
       "Avg_Utilization_Ratio                                                                                                                 float64\n",
       "Naive_Bayes_Classifier_Attrition_Flag_Card_Category_Contacts_Count_12_mon_Dependent_count_Education_Level_Months_Inactive_12_mon_1    float64\n",
       "Naive_Bayes_Classifier_Attrition_Flag_Card_Category_Contacts_Count_12_mon_Dependent_count_Education_Level_Months_Inactive_12_mon_2    float64\n",
       "dtype: object"
      ]
     },
     "execution_count": 87,
     "metadata": {},
     "output_type": "execute_result"
    }
   ],
   "source": [
    "Df.dtypes"
   ]
  },
  {
   "cell_type": "code",
   "execution_count": 88,
   "id": "93620e55",
   "metadata": {},
   "outputs": [
    {
     "data": {
      "text/plain": [
       "Existing Customer    8500\n",
       "Attrited Customer    1627\n",
       "Name: Attrition_Flag, dtype: int64"
      ]
     },
     "execution_count": 88,
     "metadata": {},
     "output_type": "execute_result"
    }
   ],
   "source": [
    "# Check the distribution of the target variable\n",
    "Df['Attrition_Flag'].value_counts()"
   ]
  },
  {
   "cell_type": "code",
   "execution_count": 89,
   "id": "de3d38cf",
   "metadata": {},
   "outputs": [
    {
     "data": {
      "text/plain": [
       "array([[<AxesSubplot:title={'center':'CLIENTNUM'}>,\n",
       "        <AxesSubplot:title={'center':'Customer_Age'}>,\n",
       "        <AxesSubplot:title={'center':'Dependent_count'}>,\n",
       "        <AxesSubplot:title={'center':'Months_on_book'}>],\n",
       "       [<AxesSubplot:title={'center':'Total_Relationship_Count'}>,\n",
       "        <AxesSubplot:title={'center':'Months_Inactive_12_mon'}>,\n",
       "        <AxesSubplot:title={'center':'Contacts_Count_12_mon'}>,\n",
       "        <AxesSubplot:title={'center':'Credit_Limit'}>],\n",
       "       [<AxesSubplot:title={'center':'Total_Revolving_Bal'}>,\n",
       "        <AxesSubplot:title={'center':'Avg_Open_To_Buy'}>,\n",
       "        <AxesSubplot:title={'center':'Total_Amt_Chng_Q4_Q1'}>,\n",
       "        <AxesSubplot:title={'center':'Total_Trans_Amt'}>],\n",
       "       [<AxesSubplot:title={'center':'Total_Trans_Ct'}>,\n",
       "        <AxesSubplot:title={'center':'Total_Ct_Chng_Q4_Q1'}>,\n",
       "        <AxesSubplot:title={'center':'Avg_Utilization_Ratio'}>,\n",
       "        <AxesSubplot:title={'center':'Naive_Bayes_Classifier_Attrition_Flag_Card_Category_Contacts_Count_12_mon_Dependent_count_Education_Level_Months_Inactive_12_mon_1'}>],\n",
       "       [<AxesSubplot:title={'center':'Naive_Bayes_Classifier_Attrition_Flag_Card_Category_Contacts_Count_12_mon_Dependent_count_Education_Level_Months_Inactive_12_mon_2'}>,\n",
       "        <AxesSubplot:>, <AxesSubplot:>, <AxesSubplot:>]], dtype=object)"
      ]
     },
     "execution_count": 89,
     "metadata": {},
     "output_type": "execute_result"
    },
    {
     "data": {
      "image/png": "[encoded data removed]",
      "text/plain": [
       "<Figure size 1000x1000 with 20 Axes>"
      ]
     },
     "metadata": {},
     "output_type": "display_data"
    }
   ],
   "source": [
    "# Plot histograms of numeric variables to understand distribution\n",
    "Df.hist(figsize=(10,10))"
   ]
  },
  {
   "cell_type": "code",
   "execution_count": 90,
   "id": "900744bc",
   "metadata": {},
   "outputs": [
    {
     "data": {
      "text/plain": [
       "0"
      ]
     },
     "execution_count": 90,
     "metadata": {},
     "output_type": "execute_result"
    }
   ],
   "source": [
    "# Check for missing values\n",
    "Df.isnull().sum().sum() "
   ]
  },
  {
   "cell_type": "code",
   "execution_count": 91,
   "id": "23b79157",
   "metadata": {},
   "outputs": [
    {
     "name": "stderr",
     "output_type": "stream",
     "text": [
      "C:\\Users\\dell\\AppData\\Local\\Temp\\ipykernel_5504\\2930100827.py:6: FutureWarning: Automatic reindexing on DataFrame vs Series comparisons is deprecated and will raise ValueError in a future version. Do `left, right = left.align(right, axis=1, copy=False)` before e.g. `left == right`\n",
      "  Df = Df[~((Df < (Q1 - 1.5 * IQR)) | (Df > (Q3 + 1.5 * IQR))).any(axis=1)]\n"
     ]
    }
   ],
   "source": [
    "# (2) Preprocessing the data\n",
    "# Remove outliers\n",
    "Q1 = Df.quantile(0.25)\n",
    "Q3 = Df.quantile(0.75)\n",
    "IQR = Q3 - Q1\n",
    "Df = Df[~((Df < (Q1 - 1.5 * IQR)) | (Df > (Q3 + 1.5 * IQR))).any(axis=1)]"
   ]
  },
  {
   "cell_type": "code",
   "execution_count": 92,
   "id": "22ec4b58",
   "metadata": {},
   "outputs": [
    {
     "name": "stdout",
     "output_type": "stream",
     "text": [
      "Existing Customer    8500\n",
      "Attrited Customer    1627\n",
      "Name: Attrition_Flag, dtype: int64\n"
     ]
    }
   ],
   "source": [
    "Df = pd.read_csv(r\"D:\\SLC BUSINESS ANALYTICS 3RD Smester\\ADMN 5016 Applied Artificial Inteligence and Machine Learning\\BankChurners.csv\")\n",
    "print(Df['Attrition_Flag'].value_counts())"
   ]
  },
  {
   "cell_type": "code",
   "execution_count": 93,
   "id": "708f5c49",
   "metadata": {},
   "outputs": [
    {
     "data": {
      "text/plain": [
       "Existing Customer    8500\n",
       "Attrited Customer    1627\n",
       "Name: Attrition_Flag, dtype: int64"
      ]
     },
     "execution_count": 93,
     "metadata": {},
     "output_type": "execute_result"
    }
   ],
   "source": [
    "Df['Attrition_Flag'].value_counts()"
   ]
  },
  {
   "cell_type": "code",
   "execution_count": 94,
   "id": "3dd40f15",
   "metadata": {},
   "outputs": [
    {
     "name": "stdout",
     "output_type": "stream",
     "text": [
      "All Data: (array([0, 1]), array([1627, 8500], dtype=int64))\n"
     ]
    }
   ],
   "source": [
    "from sklearn.preprocessing import LabelEncoder\n",
    "\n",
    "# Initialize the label encoder\n",
    "le = LabelEncoder()\n",
    "\n",
    "# Fit and transform the target variable\n",
    "target = le.fit_transform(Df['Attrition_Flag'])\n",
    "\n",
    "# Now, print the unique values and their counts\n",
    "print('All Data:', np.unique(target, return_counts=True))\n"
   ]
  },
  {
   "cell_type": "code",
   "execution_count": 95,
   "id": "362189d8",
   "metadata": {},
   "outputs": [],
   "source": [
    "# Split the features and the target variable\n",
    "features = Df.drop('Attrition_Flag', axis=1)\n",
    "target = Df['Attrition_Flag']"
   ]
  },
  {
   "cell_type": "code",
   "execution_count": 96,
   "id": "40cb24ac",
   "metadata": {},
   "outputs": [],
   "source": [
    "# Encoding categorical features\n",
    "encoder = OneHotEncoder()\n",
    "features_encoded = encoder.fit_transform(features)"
   ]
  },
  {
   "cell_type": "code",
   "execution_count": 97,
   "id": "ac81ef29",
   "metadata": {},
   "outputs": [],
   "source": [
    "# Converting target variables into numerical values\n",
    "le = LabelEncoder()\n",
    "target = le.fit_transform(target)"
   ]
  },
  {
   "cell_type": "code",
   "execution_count": 99,
   "id": "427b4632",
   "metadata": {},
   "outputs": [],
   "source": [
    "# Replace 'Attrition_Flag' with '1' for 'Existing Customer' and '0' for 'Attrited Customer'\n",
    "Df['Attrition_Flag'] = Df['Attrition_Flag'].apply(lambda x: 1 if x=='Existing Customer' else 0)\n",
    "\n",
    "# Split the dataset\n",
    "from sklearn.model_selection import train_test_split\n",
    "features = Df.drop(columns='Attrition_Flag')\n",
    "target = Df['Attrition_Flag']\n",
    "y=target"
   ]
  },
  {
   "cell_type": "code",
   "execution_count": 100,
   "id": "d41312f0",
   "metadata": {},
   "outputs": [
    {
     "name": "stdout",
     "output_type": "stream",
     "text": [
      "All Data: (array([0, 1], dtype=int64), array([1627, 8500], dtype=int64))\n",
      "Training Set: (array([0, 1], dtype=int64), array([6801, 6801], dtype=int64))\n",
      "Test Set: (array([0, 1], dtype=int64), array([ 327, 1699], dtype=int64))\n"
     ]
    }
   ],
   "source": [
    "print('All Data:', np.unique(target, return_counts=True))\n",
    "print('Training Set:', np.unique(target_train, return_counts=True))\n",
    "print('Test Set:', np.unique(target_test, return_counts=True))"
   ]
  },
  {
   "cell_type": "code",
   "execution_count": 101,
   "id": "c7c24596",
   "metadata": {},
   "outputs": [],
   "source": [
    "# One-hot encoding\n",
    "Df = pd.get_dummies(Df)\n",
    "\n",
    "# Splitting the data\n",
    "features = Df.drop('Attrition_Flag', axis=1)\n",
    "target = Df['Attrition_Flag']"
   ]
  },
  {
   "cell_type": "code",
   "execution_count": 102,
   "id": "f971f683",
   "metadata": {},
   "outputs": [],
   "source": [
    "# Splitting the data into training and test sets\n",
    "features_train, features_test, target_train, target_test = train_test_split(features, target, test_size=0.2, random_state=42)\n"
   ]
  },
  {
   "cell_type": "code",
   "execution_count": 103,
   "id": "cb2cf98a",
   "metadata": {},
   "outputs": [
    {
     "name": "stdout",
     "output_type": "stream",
     "text": [
      "All Data: (array([0, 1], dtype=int64), array([1627, 8500], dtype=int64))\n",
      "Training Set: (array([0, 1], dtype=int64), array([1300, 6801], dtype=int64))\n",
      "Test Set: (array([0, 1], dtype=int64), array([ 327, 1699], dtype=int64))\n"
     ]
    }
   ],
   "source": [
    "print('All Data:', np.unique(target, return_counts=True)) # Check the distribution in the training set\n",
    "print('Training Set:', np.unique(target_train, return_counts=True))# Check the distribution in the test set\n",
    "print('Test Set:', np.unique(target_test, return_counts=True))"
   ]
  },
  {
   "cell_type": "code",
   "execution_count": 104,
   "id": "15d6305b",
   "metadata": {},
   "outputs": [],
   "source": [
    "# Balance the dataset\n",
    "smote = SMOTE(random_state=42)\n",
    "features_train, target_train = smote.fit_resample(features_train, target_train)"
   ]
  },
  {
   "cell_type": "code",
   "execution_count": 105,
   "id": "081b3686",
   "metadata": {},
   "outputs": [],
   "source": [
    "# Scaling the data\n",
    "scaler = StandardScaler(with_mean = False)\n",
    "features = scaler.fit_transform(features)"
   ]
  },
  {
   "cell_type": "code",
   "execution_count": 106,
   "id": "5755ab79",
   "metadata": {},
   "outputs": [
    {
     "data": {
      "text/plain": [
       "LogisticRegression()"
      ]
     },
     "execution_count": 106,
     "metadata": {},
     "output_type": "execute_result"
    }
   ],
   "source": [
    "# Implementing the Logistic Regression model\n",
    "model_lr = LogisticRegression()\n",
    "model_lr.fit(features_train, target_train)"
   ]
  },
  {
   "cell_type": "code",
   "execution_count": 107,
   "id": "8d479c72",
   "metadata": {},
   "outputs": [],
   "source": [
    "#Hyperparameter tuning for Logistic Regression\n",
    "param_grid_lr = {'C': [0.001, 0.01, 0.1, 1, 10, 100, 1000]}\n",
    "grid_search_lr = GridSearchCV(LogisticRegression(), param_grid_lr)\n",
    "grid_search_lr.fit(features_train, target_train)\n",
    "best_model_lr = grid_search_lr.best_estimator_"
   ]
  },
  {
   "cell_type": "code",
   "execution_count": 52,
   "id": "00f1c9aa",
   "metadata": {},
   "outputs": [
    {
     "name": "stdout",
     "output_type": "stream",
     "text": [
      "              precision    recall  f1-score   support\n",
      "\n",
      "           0       0.00      0.00      0.00       327\n",
      "           1       0.84      1.00      0.91      1699\n",
      "\n",
      "    accuracy                           0.84      2026\n",
      "   macro avg       0.42      0.50      0.46      2026\n",
      "weighted avg       0.70      0.84      0.76      2026\n",
      "\n",
      "AUC-ROC Score for Logistic Regression: 0.5\n"
     ]
    },
    {
     "name": "stderr",
     "output_type": "stream",
     "text": [
      "C:\\Users\\dell\\anaconda3\\lib\\site-packages\\sklearn\\metrics\\_classification.py:1318: UndefinedMetricWarning: Precision and F-score are ill-defined and being set to 0.0 in labels with no predicted samples. Use `zero_division` parameter to control this behavior.\n",
      "  _warn_prf(average, modifier, msg_start, len(result))\n",
      "C:\\Users\\dell\\anaconda3\\lib\\site-packages\\sklearn\\metrics\\_classification.py:1318: UndefinedMetricWarning: Precision and F-score are ill-defined and being set to 0.0 in labels with no predicted samples. Use `zero_division` parameter to control this behavior.\n",
      "  _warn_prf(average, modifier, msg_start, len(result))\n",
      "C:\\Users\\dell\\anaconda3\\lib\\site-packages\\sklearn\\metrics\\_classification.py:1318: UndefinedMetricWarning: Precision and F-score are ill-defined and being set to 0.0 in labels with no predicted samples. Use `zero_division` parameter to control this behavior.\n",
      "  _warn_prf(average, modifier, msg_start, len(result))\n"
     ]
    }
   ],
   "source": [
    "# Evaluation for Logistic Regression\n",
    "target_pred_lr = best_model_lr.predict(features_test)\n",
    "print(classification_report(target_test, target_pred_lr))\n",
    "print(\"AUC-ROC Score for Logistic Regression:\", roc_auc_score(target_test, target_pred_lr))"
   ]
  },
  {
   "cell_type": "code",
   "execution_count": 53,
   "id": "9ee09827",
   "metadata": {},
   "outputs": [
    {
     "data": {
      "text/plain": [
       "RandomForestClassifier()"
      ]
     },
     "execution_count": 53,
     "metadata": {},
     "output_type": "execute_result"
    }
   ],
   "source": [
    "# Implement the Random Forest model\n",
    "model_rf = RandomForestClassifier()\n",
    "model_rf.fit(features_train, target_train)"
   ]
  },
  {
   "cell_type": "code",
   "execution_count": 54,
   "id": "476bc128",
   "metadata": {},
   "outputs": [],
   "source": [
    "# Hyperparameter tuning for Random Forest\n",
    "param_grid_rf = {'n_estimators': [100, 200, 300, 400, 500], 'max_depth': [5, 10, 15, 20]}\n",
    "grid_search_rf = GridSearchCV(RandomForestClassifier(), param_grid_rf)\n",
    "grid_search_rf.fit(features_train, target_train)\n",
    "best_model_rf = grid_search_rf.best_estimator_"
   ]
  },
  {
   "cell_type": "code",
   "execution_count": 55,
   "id": "9db391cd",
   "metadata": {},
   "outputs": [
    {
     "name": "stdout",
     "output_type": "stream",
     "text": [
      "              precision    recall  f1-score   support\n",
      "\n",
      "           0       1.00      1.00      1.00       327\n",
      "           1       1.00      1.00      1.00      1699\n",
      "\n",
      "    accuracy                           1.00      2026\n",
      "   macro avg       1.00      1.00      1.00      2026\n",
      "weighted avg       1.00      1.00      1.00      2026\n",
      "\n",
      "AUC-ROC Score for Random Forest: 1.0\n"
     ]
    }
   ],
   "source": [
    "# Evaluation for Random Forest\n",
    "target_pred_rf = best_model_rf.predict(features_test)\n",
    "print(classification_report(target_test, target_pred_rf))\n",
    "print(\"AUC-ROC Score for Random Forest:\", roc_auc_score(target_test, target_pred_rf))"
   ]
  },
  {
   "cell_type": "code",
   "execution_count": 56,
   "id": "38573546",
   "metadata": {},
   "outputs": [
    {
     "data": {
      "text/plain": [
       "RandomForestClassifier(max_depth=10, n_jobs=-1)"
      ]
     },
     "execution_count": 56,
     "metadata": {},
     "output_type": "execute_result"
    }
   ],
   "source": [
    "# Implement the Random Forest model with adjustments to reduce computation time\n",
    "model_rf = RandomForestClassifier(n_estimators=100, max_depth=10, n_jobs=-1)\n",
    "model_rf.fit(features_train, target_train)"
   ]
  },
  {
   "cell_type": "code",
   "execution_count": 57,
   "id": "4e636a76",
   "metadata": {},
   "outputs": [],
   "source": [
    "# Hyperparameter tuning for Random Forest\n",
    "param_grid_rf = {'n_estimators': [50, 100, 150], 'max_depth': [5, 10]}\n",
    "grid_search_rf = GridSearchCV(RandomForestClassifier(n_jobs=-1), param_grid_rf)\n",
    "grid_search_rf.fit(features_train, target_train)\n",
    "best_model_rf = grid_search_rf.best_estimator_\n"
   ]
  },
  {
   "cell_type": "code",
   "execution_count": 58,
   "id": "148885c8",
   "metadata": {
    "scrolled": true
   },
   "outputs": [
    {
     "name": "stdout",
     "output_type": "stream",
     "text": [
      "              precision    recall  f1-score   support\n",
      "\n",
      "           0       1.00      1.00      1.00       327\n",
      "           1       1.00      1.00      1.00      1699\n",
      "\n",
      "    accuracy                           1.00      2026\n",
      "   macro avg       1.00      1.00      1.00      2026\n",
      "weighted avg       1.00      1.00      1.00      2026\n",
      "\n",
      "AUC-ROC Score for Random Forest: 1.0\n"
     ]
    }
   ],
   "source": [
    "# Evaluation for Random Forest\n",
    "target_pred_rf = best_model_rf.predict(features_test)\n",
    "print(classification_report(target_test, target_pred_rf))\n",
    "print(\"AUC-ROC Score for Random Forest:\", roc_auc_score(target_test, target_pred_rf))"
   ]
  },
  {
   "cell_type": "markdown",
   "id": "b362a682",
   "metadata": {},
   "source": [
    "RESULT:\n",
    "The purpose of the models we trained was to predict customer churn for a bank. The models were trained on historical customer data and the target variable was whether a customer had churned or not. We used two models for this task: Logistic Regression and Random Forest.\n",
    "After performing hyperparameter tuning on these models, we found that both models were able to perfectly predict the customer churn on our test data, as evidenced by the perfect precision, recall, and F1 scores of 1.0, and AUC-ROC scores of 1.0. This might indicate that our model is overfitting, as it's rare to get such perfect results in practice.\n"
   ]
  }
 ],
 "metadata": {
  "kernelspec": {
   "display_name": "Python 3 (ipykernel)",
   "language": "python",
   "name": "python3"
  },
  "language_info": {
   "codemirror_mode": {
    "name": "ipython",
    "version": 3
   },
   "file_extension": ".py",
   "mimetype": "text/x-python",
   "name": "python",
   "nbconvert_exporter": "python",
   "pygments_lexer": "ipython3",
   "version": "3.9.13"
  }
 },
 "nbformat": 4,
 "nbformat_minor": 5
}
